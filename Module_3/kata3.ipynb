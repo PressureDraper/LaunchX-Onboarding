{
 "cells": [
  {
   "cell_type": "markdown",
   "metadata": {},
   "source": [
    "# Module 3"
   ]
  },
  {
   "cell_type": "markdown",
   "metadata": {},
   "source": [
    "## Exercise 1"
   ]
  },
  {
   "cell_type": "code",
   "execution_count": 3,
   "metadata": {},
   "outputs": [
    {
     "name": "stdout",
     "output_type": "stream",
     "text": [
      "Danger zone!\n"
     ]
    }
   ],
   "source": [
    "asteroid = 49\n",
    "\n",
    "if asteroid > 25:\n",
    "    print(\"Danger Zone!\")\n",
    "else:\n",
    "    print(\"There's no problem!\")"
   ]
  },
  {
   "cell_type": "markdown",
   "metadata": {},
   "source": [
    "## Exercise 2"
   ]
  },
  {
   "cell_type": "code",
   "execution_count": 3,
   "metadata": {},
   "outputs": [
    {
     "name": "stdout",
     "output_type": "stream",
     "text": [
      "It seems there's nothing there!\n"
     ]
    }
   ],
   "source": [
    "asteroid = 19\n",
    "\n",
    "if asteroid >= 20:\n",
    "    print(\"Look at the sky! There's a flashing light!\")\n",
    "else:\n",
    "    print(\"It seems there's nothing there!\")"
   ]
  },
  {
   "cell_type": "markdown",
   "metadata": {},
   "source": [
    "## Exercise 3"
   ]
  },
  {
   "cell_type": "code",
   "execution_count": 17,
   "metadata": {},
   "outputs": [
    {
     "name": "stdout",
     "output_type": "stream",
     "text": [
      "Look at the sky! There's a flashing light!\n"
     ]
    }
   ],
   "source": [
    "asteroid_velocity = 55\n",
    "asteroid_size = 21\n",
    "\n",
    "if asteroid_velocity >= 25 and asteroid_size > 25:\n",
    "    print(\"Danger Zone! An asteroid is coming!\")\n",
    "elif asteroid_velocity >= 20:\n",
    "    print(\"Look at the sky! There's a flashing light!\")\n",
    "elif asteroid_size < 25:\n",
    "    print(\"It seems there's nothing there!\")\n"
   ]
  }
 ],
 "metadata": {
  "interpreter": {
   "hash": "2be5faf79681da6f2a61fdfdd5405d65d042280f7fba6178067603e3a2925119"
  },
  "kernelspec": {
   "display_name": "Python 3.10.1 64-bit",
   "language": "python",
   "name": "python3"
  },
  "language_info": {
   "codemirror_mode": {
    "name": "ipython",
    "version": 3
   },
   "file_extension": ".py",
   "mimetype": "text/x-python",
   "name": "python",
   "nbconvert_exporter": "python",
   "pygments_lexer": "ipython3",
   "version": "3.10.1"
  },
  "orig_nbformat": 4
 },
 "nbformat": 4,
 "nbformat_minor": 2
}
