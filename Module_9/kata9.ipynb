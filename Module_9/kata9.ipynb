{
 "cells": [
  {
   "cell_type": "markdown",
   "metadata": {},
   "source": [
    "# Module 9"
   ]
  },
  {
   "cell_type": "markdown",
   "metadata": {},
   "source": [
    "## Exercise 1"
   ]
  },
  {
   "cell_type": "markdown",
   "metadata": {},
   "source": [
    "### Reading 3 fuel tanks"
   ]
  },
  {
   "cell_type": "code",
   "execution_count": 2,
   "metadata": {},
   "outputs": [
    {
     "name": "stdout",
     "output_type": "stream",
     "text": [
      "\n",
      "        Fuel Report:\n",
      "        Tank 1: 70\n",
      "        Tank 2: 47\n",
      "        Tank 3: 94\n",
      "        ------------------\n",
      "        Average: 70.33333333333333\n",
      "    \n"
     ]
    }
   ],
   "source": [
    "def avFuel(tank,tank2,tank3):\n",
    "    av = (tank + tank2 + tank3) / 3\n",
    "\n",
    "    report = f\"\"\"\n",
    "        Fuel Report:\n",
    "        Tank 1: {tank}\n",
    "        Tank 2: {tank2}\n",
    "        Tank 3: {tank3}\n",
    "        ------------------\n",
    "        Average: {av}\n",
    "    \"\"\"\n",
    "    return report\n",
    "\n",
    "print(avFuel(70,47,94))"
   ]
  },
  {
   "cell_type": "markdown",
   "metadata": {},
   "source": [
    "### Average function"
   ]
  },
  {
   "cell_type": "code",
   "execution_count": 6,
   "metadata": {},
   "outputs": [
    {
     "name": "stdout",
     "output_type": "stream",
     "text": [
      "70.33333333333333\n"
     ]
    }
   ],
   "source": [
    "def average(values):\n",
    "    total = sum(values)\n",
    "    tanks = len(values)\n",
    "\n",
    "    return total / tanks\n",
    "\n",
    "print(average([70,47,94]))"
   ]
  },
  {
   "cell_type": "markdown",
   "metadata": {},
   "source": [
    "### Updating fuel function"
   ]
  },
  {
   "cell_type": "code",
   "execution_count": 7,
   "metadata": {},
   "outputs": [
    {
     "name": "stdout",
     "output_type": "stream",
     "text": [
      "\n",
      "        Fuel Report:\n",
      "        Tank 1: 74\n",
      "        Tank 2: 75\n",
      "        Tank 3: 87\n",
      "        ------------------\n",
      "        Average: 78.66666666666667\n",
      "    \n"
     ]
    }
   ],
   "source": [
    "def avFuel(tank,tank2,tank3):\n",
    "    av = average([tank,tank2,tank3])\n",
    "\n",
    "    report = f\"\"\"\n",
    "        Fuel Report:\n",
    "        Tank 1: {tank}\n",
    "        Tank 2: {tank2}\n",
    "        Tank 3: {tank3}\n",
    "        ------------------\n",
    "        Average: {av}\n",
    "    \"\"\"\n",
    "    return report\n",
    "\n",
    "print(avFuel(74,75,87))"
   ]
  },
  {
   "cell_type": "markdown",
   "metadata": {},
   "source": [
    "\n",
    "# Exercise 2"
   ]
  },
  {
   "cell_type": "markdown",
   "metadata": {},
   "source": [
    "### Accurate mission report"
   ]
  },
  {
   "cell_type": "code",
   "execution_count": 29,
   "metadata": {},
   "outputs": [
    {
     "name": "stdout",
     "output_type": "stream",
     "text": [
      "\n",
      "        Destiny: Venus\n",
      "        Flight Time: 90 minutes\n",
      "        Remaining Fuel: 4500 gallons\n",
      "    \n"
     ]
    }
   ],
   "source": [
    "def mission(prelaunch_time, flight_time, destiny, ext_tank, int_tank):\n",
    "    report = f\"\"\"\n",
    "        Destiny: {destiny}\n",
    "        Flight Time: {prelaunch_time + flight_time} minutes\n",
    "        Remaining Fuel: {ext_tank + int_tank} gallons\n",
    "    \"\"\"\n",
    "\n",
    "    return report\n",
    "\n",
    "print(mission(17,73,'Venus',2000, 2500))"
   ]
  },
  {
   "cell_type": "markdown",
   "metadata": {},
   "source": [
    "### New mission function"
   ]
  },
  {
   "cell_type": "code",
   "execution_count": 28,
   "metadata": {},
   "outputs": [
    {
     "data": {
      "text/plain": [
       "'\\n        Destiny: Venus\\n\\n        Flight Time: 102 minutes\\n        Remaining Fuel: 4500 gallons\\n    '"
      ]
     },
     "execution_count": 28,
     "metadata": {},
     "output_type": "execute_result"
    }
   ],
   "source": [
    "def mission(destiny, *minutes, **fuel_reservoirs):\n",
    "\n",
    "    total_gallons = 0\n",
    "    for tank, gallons in fuel_reservoirs.items():\n",
    "        total_gallons += gallons\n",
    "\n",
    "    report = f\"\"\"\n",
    "        Destiny: {destiny}\n",
    "        Flight Time: {sum(minutes)} minutes\n",
    "        Remaining Fuel: {total_gallons} gallons\n",
    "    \"\"\"\n",
    "    return report\n",
    "\n",
    "mission('Venus',5,7,90,internal=2000,external=2500)"
   ]
  },
  {
   "cell_type": "markdown",
   "metadata": {},
   "source": [
    "### Adding tank names and fuel"
   ]
  },
  {
   "cell_type": "code",
   "execution_count": 35,
   "metadata": {},
   "outputs": [
    {
     "data": {
      "text/plain": [
       "'\\n        Destiny: Venus\\n        Flight Time: 102 minutes\\n        Remaining Fuel: 4500 gallons\\n\\n    internal: 2000 gallons\\n external: 2500 gallons\\n '"
      ]
     },
     "execution_count": 35,
     "metadata": {},
     "output_type": "execute_result"
    }
   ],
   "source": [
    "def mission(destiny, *minutes, **fuel_reservoirs):\n",
    "\n",
    "    total_gallons = 0\n",
    "\n",
    "    for tank, gallons in fuel_reservoirs.items():\n",
    "        total_gallons += gallons\n",
    "\n",
    "\n",
    "    report = f\"\"\"\n",
    "        Destiny: {destiny}\n",
    "        Flight Time: {sum(minutes)} minutes\n",
    "        Remaining Fuel: {total_gallons} gallons\n",
    "\n",
    "    \"\"\"\n",
    "\n",
    "    for tank, gallons in fuel_reservoirs.items():\n",
    "        report += f\"{tank}: {gallons} gallons\\n \"\n",
    "    return report\n",
    "\n",
    "mission('Venus',5,7,90,internal=2000,external=2500)"
   ]
  }
 ],
 "metadata": {
  "interpreter": {
   "hash": "2be5faf79681da6f2a61fdfdd5405d65d042280f7fba6178067603e3a2925119"
  },
  "kernelspec": {
   "display_name": "Python 3.10.1 64-bit",
   "language": "python",
   "name": "python3"
  },
  "language_info": {
   "codemirror_mode": {
    "name": "ipython",
    "version": 3
   },
   "file_extension": ".py",
   "mimetype": "text/x-python",
   "name": "python",
   "nbconvert_exporter": "python",
   "pygments_lexer": "ipython3",
   "version": "3.10.1"
  },
  "orig_nbformat": 4
 },
 "nbformat": 4,
 "nbformat_minor": 2
}
